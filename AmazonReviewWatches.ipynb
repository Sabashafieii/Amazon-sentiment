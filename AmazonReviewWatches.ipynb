{
  "nbformat": 4,
  "nbformat_minor": 0,
  "metadata": {
    "colab": {
      "provenance": [],
      "gpuType": "T4"
    },
    "kernelspec": {
      "name": "python3",
      "display_name": "Python 3"
    },
    "language_info": {
      "name": "python"
    },
    "accelerator": "GPU"
  },
  "cells": [
    {
      "cell_type": "code",
      "source": [
        "!wget \"https://s3.amazonaws.com/amazon-reviews-pds/tsv/amazon_reviews_us_Watches_v1_00.tsv.gz\"\n",
        "!gzip -d \"/content/amazon_reviews_us_Watches_v1_00.tsv.gz\""
      ],
      "metadata": {
        "colab": {
          "base_uri": "https://localhost:8080/"
        },
        "id": "FUIPUpj5_cRp",
        "outputId": "a422df2a-1a07-4367-eaa6-29e2232ce113"
      },
      "execution_count": 1,
      "outputs": [
        {
          "output_type": "stream",
          "name": "stdout",
          "text": [
            "--2023-07-04 09:40:20--  https://s3.amazonaws.com/amazon-reviews-pds/tsv/amazon_reviews_us_Watches_v1_00.tsv.gz\n",
            "Resolving s3.amazonaws.com (s3.amazonaws.com)... 54.231.234.168, 52.216.21.45, 52.216.212.184, ...\n",
            "Connecting to s3.amazonaws.com (s3.amazonaws.com)|54.231.234.168|:443... connected.\n",
            "HTTP request sent, awaiting response... 200 OK\n",
            "Length: 162973819 (155M) [application/x-gzip]\n",
            "Saving to: ‘amazon_reviews_us_Watches_v1_00.tsv.gz’\n",
            "\n",
            "amazon_reviews_us_W 100%[===================>] 155.42M  42.7MB/s    in 4.0s    \n",
            "\n",
            "2023-07-04 09:40:25 (38.4 MB/s) - ‘amazon_reviews_us_Watches_v1_00.tsv.gz’ saved [162973819/162973819]\n",
            "\n"
          ]
        }
      ]
    },
    {
      "cell_type": "code",
      "source": [
        "import pandas as pd\n",
        "file_path = '/content/amazon_reviews_us_Watches_v1_00.tsv'\n",
        "df = pd.read_csv(file_path, sep='\\t',error_bad_lines=False)\n",
        "Data_used = 100000\n",
        "df = df.sample(Data_used)\n",
        "df.shape"
      ],
      "metadata": {
        "colab": {
          "base_uri": "https://localhost:8080/"
        },
        "id": "vHWHbgPn4_--",
        "outputId": "e137134f-2ea3-4e65-ccc8-a8877aeafb7a"
      },
      "execution_count": 2,
      "outputs": [
        {
          "output_type": "stream",
          "name": "stderr",
          "text": [
            "<ipython-input-2-a6a4b7539643>:3: FutureWarning: The error_bad_lines argument has been deprecated and will be removed in a future version. Use on_bad_lines in the future.\n",
            "\n",
            "\n",
            "  df = pd.read_csv(file_path, sep='\\t',error_bad_lines=False)\n",
            "Skipping line 8704: expected 15 fields, saw 22\n",
            "Skipping line 16933: expected 15 fields, saw 22\n",
            "Skipping line 23726: expected 15 fields, saw 22\n",
            "\n",
            "Skipping line 85637: expected 15 fields, saw 22\n",
            "\n",
            "Skipping line 132136: expected 15 fields, saw 22\n",
            "Skipping line 158070: expected 15 fields, saw 22\n",
            "Skipping line 166007: expected 15 fields, saw 22\n",
            "Skipping line 171877: expected 15 fields, saw 22\n",
            "Skipping line 177756: expected 15 fields, saw 22\n",
            "Skipping line 181773: expected 15 fields, saw 22\n",
            "Skipping line 191085: expected 15 fields, saw 22\n",
            "Skipping line 196273: expected 15 fields, saw 22\n",
            "Skipping line 196331: expected 15 fields, saw 22\n",
            "\n",
            "Skipping line 197000: expected 15 fields, saw 22\n",
            "Skipping line 197011: expected 15 fields, saw 22\n",
            "Skipping line 197432: expected 15 fields, saw 22\n",
            "Skipping line 208016: expected 15 fields, saw 22\n",
            "Skipping line 214110: expected 15 fields, saw 22\n",
            "Skipping line 244328: expected 15 fields, saw 22\n",
            "Skipping line 248519: expected 15 fields, saw 22\n",
            "Skipping line 254936: expected 15 fields, saw 22\n",
            "\n",
            "Skipping line 272057: expected 15 fields, saw 22\n",
            "Skipping line 293214: expected 15 fields, saw 22\n",
            "Skipping line 310507: expected 15 fields, saw 22\n",
            "Skipping line 312306: expected 15 fields, saw 22\n",
            "Skipping line 316296: expected 15 fields, saw 22\n",
            "\n",
            "Skipping line 336028: expected 15 fields, saw 22\n",
            "Skipping line 344885: expected 15 fields, saw 22\n",
            "Skipping line 352551: expected 15 fields, saw 22\n",
            "\n",
            "Skipping line 408773: expected 15 fields, saw 22\n",
            "Skipping line 434535: expected 15 fields, saw 22\n",
            "\n",
            "Skipping line 581593: expected 15 fields, saw 22\n",
            "\n",
            "Skipping line 652409: expected 15 fields, saw 22\n",
            "\n"
          ]
        },
        {
          "output_type": "execute_result",
          "data": {
            "text/plain": [
              "(100000, 15)"
            ]
          },
          "metadata": {},
          "execution_count": 2
        }
      ]
    },
    {
      "cell_type": "code",
      "source": [
        "# Drop null values and count rows\n",
        "df = df.dropna()\n",
        "num_rows = df.count()\n",
        "num_rows"
      ],
      "metadata": {
        "colab": {
          "base_uri": "https://localhost:8080/"
        },
        "id": "9M7Tad_X2dOM",
        "outputId": "b472267a-d605-4116-ca79-70b218332802"
      },
      "execution_count": 3,
      "outputs": [
        {
          "output_type": "execute_result",
          "data": {
            "text/plain": [
              "marketplace          99982\n",
              "customer_id          99982\n",
              "review_id            99982\n",
              "product_id           99982\n",
              "product_parent       99982\n",
              "product_title        99982\n",
              "product_category     99982\n",
              "star_rating          99982\n",
              "helpful_votes        99982\n",
              "total_votes          99982\n",
              "vine                 99982\n",
              "verified_purchase    99982\n",
              "review_headline      99982\n",
              "review_body          99982\n",
              "review_date          99982\n",
              "dtype: int64"
            ]
          },
          "metadata": {},
          "execution_count": 3
        }
      ]
    },
    {
      "cell_type": "code",
      "source": [
        "from collections import Counter\n",
        "import nltk\n",
        "import seaborn as sns\n",
        "import string\n",
        "from nltk.corpus import stopwords"
      ],
      "metadata": {
        "id": "yf7u5KLL6XGA"
      },
      "execution_count": 4,
      "outputs": []
    },
    {
      "cell_type": "code",
      "source": [
        "review=pd.DataFrame(df.groupby('star_rating').size().sort_values(ascending=False).rename('No of Users').reset_index())\n",
        "review.head()"
      ],
      "metadata": {
        "colab": {
          "base_uri": "https://localhost:8080/",
          "height": 206
        },
        "id": "KWv0ld9A5z0e",
        "outputId": "896a7638-2b40-4a9b-f3df-4506b98bb409"
      },
      "execution_count": 5,
      "outputs": [
        {
          "output_type": "execute_result",
          "data": {
            "text/plain": [
              "   star_rating  No of Users\n",
              "0            5        59195\n",
              "1            4        18107\n",
              "2            1         8987\n",
              "3            3         8273\n",
              "4            2         5420"
            ],
            "text/html": [
              "\n",
              "  <div id=\"df-8f799497-2b0c-4c53-a200-d718d937a4f4\">\n",
              "    <div class=\"colab-df-container\">\n",
              "      <div>\n",
              "<style scoped>\n",
              "    .dataframe tbody tr th:only-of-type {\n",
              "        vertical-align: middle;\n",
              "    }\n",
              "\n",
              "    .dataframe tbody tr th {\n",
              "        vertical-align: top;\n",
              "    }\n",
              "\n",
              "    .dataframe thead th {\n",
              "        text-align: right;\n",
              "    }\n",
              "</style>\n",
              "<table border=\"1\" class=\"dataframe\">\n",
              "  <thead>\n",
              "    <tr style=\"text-align: right;\">\n",
              "      <th></th>\n",
              "      <th>star_rating</th>\n",
              "      <th>No of Users</th>\n",
              "    </tr>\n",
              "  </thead>\n",
              "  <tbody>\n",
              "    <tr>\n",
              "      <th>0</th>\n",
              "      <td>5</td>\n",
              "      <td>59195</td>\n",
              "    </tr>\n",
              "    <tr>\n",
              "      <th>1</th>\n",
              "      <td>4</td>\n",
              "      <td>18107</td>\n",
              "    </tr>\n",
              "    <tr>\n",
              "      <th>2</th>\n",
              "      <td>1</td>\n",
              "      <td>8987</td>\n",
              "    </tr>\n",
              "    <tr>\n",
              "      <th>3</th>\n",
              "      <td>3</td>\n",
              "      <td>8273</td>\n",
              "    </tr>\n",
              "    <tr>\n",
              "      <th>4</th>\n",
              "      <td>2</td>\n",
              "      <td>5420</td>\n",
              "    </tr>\n",
              "  </tbody>\n",
              "</table>\n",
              "</div>\n",
              "      <button class=\"colab-df-convert\" onclick=\"convertToInteractive('df-8f799497-2b0c-4c53-a200-d718d937a4f4')\"\n",
              "              title=\"Convert this dataframe to an interactive table.\"\n",
              "              style=\"display:none;\">\n",
              "        \n",
              "  <svg xmlns=\"http://www.w3.org/2000/svg\" height=\"24px\"viewBox=\"0 0 24 24\"\n",
              "       width=\"24px\">\n",
              "    <path d=\"M0 0h24v24H0V0z\" fill=\"none\"/>\n",
              "    <path d=\"M18.56 5.44l.94 2.06.94-2.06 2.06-.94-2.06-.94-.94-2.06-.94 2.06-2.06.94zm-11 1L8.5 8.5l.94-2.06 2.06-.94-2.06-.94L8.5 2.5l-.94 2.06-2.06.94zm10 10l.94 2.06.94-2.06 2.06-.94-2.06-.94-.94-2.06-.94 2.06-2.06.94z\"/><path d=\"M17.41 7.96l-1.37-1.37c-.4-.4-.92-.59-1.43-.59-.52 0-1.04.2-1.43.59L10.3 9.45l-7.72 7.72c-.78.78-.78 2.05 0 2.83L4 21.41c.39.39.9.59 1.41.59.51 0 1.02-.2 1.41-.59l7.78-7.78 2.81-2.81c.8-.78.8-2.07 0-2.86zM5.41 20L4 18.59l7.72-7.72 1.47 1.35L5.41 20z\"/>\n",
              "  </svg>\n",
              "      </button>\n",
              "      \n",
              "  <style>\n",
              "    .colab-df-container {\n",
              "      display:flex;\n",
              "      flex-wrap:wrap;\n",
              "      gap: 12px;\n",
              "    }\n",
              "\n",
              "    .colab-df-convert {\n",
              "      background-color: #E8F0FE;\n",
              "      border: none;\n",
              "      border-radius: 50%;\n",
              "      cursor: pointer;\n",
              "      display: none;\n",
              "      fill: #1967D2;\n",
              "      height: 32px;\n",
              "      padding: 0 0 0 0;\n",
              "      width: 32px;\n",
              "    }\n",
              "\n",
              "    .colab-df-convert:hover {\n",
              "      background-color: #E2EBFA;\n",
              "      box-shadow: 0px 1px 2px rgba(60, 64, 67, 0.3), 0px 1px 3px 1px rgba(60, 64, 67, 0.15);\n",
              "      fill: #174EA6;\n",
              "    }\n",
              "\n",
              "    [theme=dark] .colab-df-convert {\n",
              "      background-color: #3B4455;\n",
              "      fill: #D2E3FC;\n",
              "    }\n",
              "\n",
              "    [theme=dark] .colab-df-convert:hover {\n",
              "      background-color: #434B5C;\n",
              "      box-shadow: 0px 1px 3px 1px rgba(0, 0, 0, 0.15);\n",
              "      filter: drop-shadow(0px 1px 2px rgba(0, 0, 0, 0.3));\n",
              "      fill: #FFFFFF;\n",
              "    }\n",
              "  </style>\n",
              "\n",
              "      <script>\n",
              "        const buttonEl =\n",
              "          document.querySelector('#df-8f799497-2b0c-4c53-a200-d718d937a4f4 button.colab-df-convert');\n",
              "        buttonEl.style.display =\n",
              "          google.colab.kernel.accessAllowed ? 'block' : 'none';\n",
              "\n",
              "        async function convertToInteractive(key) {\n",
              "          const element = document.querySelector('#df-8f799497-2b0c-4c53-a200-d718d937a4f4');\n",
              "          const dataTable =\n",
              "            await google.colab.kernel.invokeFunction('convertToInteractive',\n",
              "                                                     [key], {});\n",
              "          if (!dataTable) return;\n",
              "\n",
              "          const docLinkHtml = 'Like what you see? Visit the ' +\n",
              "            '<a target=\"_blank\" href=https://colab.research.google.com/notebooks/data_table.ipynb>data table notebook</a>'\n",
              "            + ' to learn more about interactive tables.';\n",
              "          element.innerHTML = '';\n",
              "          dataTable['output_type'] = 'display_data';\n",
              "          await google.colab.output.renderOutput(dataTable, element);\n",
              "          const docLink = document.createElement('div');\n",
              "          docLink.innerHTML = docLinkHtml;\n",
              "          element.appendChild(docLink);\n",
              "        }\n",
              "      </script>\n",
              "    </div>\n",
              "  </div>\n",
              "  "
            ]
          },
          "metadata": {},
          "execution_count": 5
        }
      ]
    },
    {
      "cell_type": "code",
      "source": [
        "permanent = df[['star_rating' , 'review_body']]\n",
        "mpermanent=permanent.dropna()\n",
        "mpermanent.head()"
      ],
      "metadata": {
        "colab": {
          "base_uri": "https://localhost:8080/",
          "height": 206
        },
        "id": "HXYVDAxg-uTC",
        "outputId": "e2fb8b4e-a0c7-43a5-d497-8e1e027e8c2b"
      },
      "execution_count": 6,
      "outputs": [
        {
          "output_type": "execute_result",
          "data": {
            "text/plain": [
              "        star_rating                                        review_body\n",
              "784754            5  This watch is a great addition to my casual sp...\n",
              "150735            5  -:¦:-•:*'&#34;*:•.-:¦:-•❧FABULOUS ❧ -:¦:- ❧ HI...\n",
              "361203            3  Looks great! Have to wind it often to keep acc...\n",
              "62869             3  Band keeps breaking after 3 returns I gave up....\n",
              "209912            5  The watch is beautiful.  Fits perfectly.  Ther..."
            ],
            "text/html": [
              "\n",
              "  <div id=\"df-1ddd3843-16c7-461a-ba95-996ee1bbe45b\">\n",
              "    <div class=\"colab-df-container\">\n",
              "      <div>\n",
              "<style scoped>\n",
              "    .dataframe tbody tr th:only-of-type {\n",
              "        vertical-align: middle;\n",
              "    }\n",
              "\n",
              "    .dataframe tbody tr th {\n",
              "        vertical-align: top;\n",
              "    }\n",
              "\n",
              "    .dataframe thead th {\n",
              "        text-align: right;\n",
              "    }\n",
              "</style>\n",
              "<table border=\"1\" class=\"dataframe\">\n",
              "  <thead>\n",
              "    <tr style=\"text-align: right;\">\n",
              "      <th></th>\n",
              "      <th>star_rating</th>\n",
              "      <th>review_body</th>\n",
              "    </tr>\n",
              "  </thead>\n",
              "  <tbody>\n",
              "    <tr>\n",
              "      <th>784754</th>\n",
              "      <td>5</td>\n",
              "      <td>This watch is a great addition to my casual sp...</td>\n",
              "    </tr>\n",
              "    <tr>\n",
              "      <th>150735</th>\n",
              "      <td>5</td>\n",
              "      <td>-:¦:-•:*'&amp;#34;*:•.-:¦:-•❧FABULOUS ❧ -:¦:- ❧ HI...</td>\n",
              "    </tr>\n",
              "    <tr>\n",
              "      <th>361203</th>\n",
              "      <td>3</td>\n",
              "      <td>Looks great! Have to wind it often to keep acc...</td>\n",
              "    </tr>\n",
              "    <tr>\n",
              "      <th>62869</th>\n",
              "      <td>3</td>\n",
              "      <td>Band keeps breaking after 3 returns I gave up....</td>\n",
              "    </tr>\n",
              "    <tr>\n",
              "      <th>209912</th>\n",
              "      <td>5</td>\n",
              "      <td>The watch is beautiful.  Fits perfectly.  Ther...</td>\n",
              "    </tr>\n",
              "  </tbody>\n",
              "</table>\n",
              "</div>\n",
              "      <button class=\"colab-df-convert\" onclick=\"convertToInteractive('df-1ddd3843-16c7-461a-ba95-996ee1bbe45b')\"\n",
              "              title=\"Convert this dataframe to an interactive table.\"\n",
              "              style=\"display:none;\">\n",
              "        \n",
              "  <svg xmlns=\"http://www.w3.org/2000/svg\" height=\"24px\"viewBox=\"0 0 24 24\"\n",
              "       width=\"24px\">\n",
              "    <path d=\"M0 0h24v24H0V0z\" fill=\"none\"/>\n",
              "    <path d=\"M18.56 5.44l.94 2.06.94-2.06 2.06-.94-2.06-.94-.94-2.06-.94 2.06-2.06.94zm-11 1L8.5 8.5l.94-2.06 2.06-.94-2.06-.94L8.5 2.5l-.94 2.06-2.06.94zm10 10l.94 2.06.94-2.06 2.06-.94-2.06-.94-.94-2.06-.94 2.06-2.06.94z\"/><path d=\"M17.41 7.96l-1.37-1.37c-.4-.4-.92-.59-1.43-.59-.52 0-1.04.2-1.43.59L10.3 9.45l-7.72 7.72c-.78.78-.78 2.05 0 2.83L4 21.41c.39.39.9.59 1.41.59.51 0 1.02-.2 1.41-.59l7.78-7.78 2.81-2.81c.8-.78.8-2.07 0-2.86zM5.41 20L4 18.59l7.72-7.72 1.47 1.35L5.41 20z\"/>\n",
              "  </svg>\n",
              "      </button>\n",
              "      \n",
              "  <style>\n",
              "    .colab-df-container {\n",
              "      display:flex;\n",
              "      flex-wrap:wrap;\n",
              "      gap: 12px;\n",
              "    }\n",
              "\n",
              "    .colab-df-convert {\n",
              "      background-color: #E8F0FE;\n",
              "      border: none;\n",
              "      border-radius: 50%;\n",
              "      cursor: pointer;\n",
              "      display: none;\n",
              "      fill: #1967D2;\n",
              "      height: 32px;\n",
              "      padding: 0 0 0 0;\n",
              "      width: 32px;\n",
              "    }\n",
              "\n",
              "    .colab-df-convert:hover {\n",
              "      background-color: #E2EBFA;\n",
              "      box-shadow: 0px 1px 2px rgba(60, 64, 67, 0.3), 0px 1px 3px 1px rgba(60, 64, 67, 0.15);\n",
              "      fill: #174EA6;\n",
              "    }\n",
              "\n",
              "    [theme=dark] .colab-df-convert {\n",
              "      background-color: #3B4455;\n",
              "      fill: #D2E3FC;\n",
              "    }\n",
              "\n",
              "    [theme=dark] .colab-df-convert:hover {\n",
              "      background-color: #434B5C;\n",
              "      box-shadow: 0px 1px 3px 1px rgba(0, 0, 0, 0.15);\n",
              "      filter: drop-shadow(0px 1px 2px rgba(0, 0, 0, 0.3));\n",
              "      fill: #FFFFFF;\n",
              "    }\n",
              "  </style>\n",
              "\n",
              "      <script>\n",
              "        const buttonEl =\n",
              "          document.querySelector('#df-1ddd3843-16c7-461a-ba95-996ee1bbe45b button.colab-df-convert');\n",
              "        buttonEl.style.display =\n",
              "          google.colab.kernel.accessAllowed ? 'block' : 'none';\n",
              "\n",
              "        async function convertToInteractive(key) {\n",
              "          const element = document.querySelector('#df-1ddd3843-16c7-461a-ba95-996ee1bbe45b');\n",
              "          const dataTable =\n",
              "            await google.colab.kernel.invokeFunction('convertToInteractive',\n",
              "                                                     [key], {});\n",
              "          if (!dataTable) return;\n",
              "\n",
              "          const docLinkHtml = 'Like what you see? Visit the ' +\n",
              "            '<a target=\"_blank\" href=https://colab.research.google.com/notebooks/data_table.ipynb>data table notebook</a>'\n",
              "            + ' to learn more about interactive tables.';\n",
              "          element.innerHTML = '';\n",
              "          dataTable['output_type'] = 'display_data';\n",
              "          await google.colab.output.renderOutput(dataTable, element);\n",
              "          const docLink = document.createElement('div');\n",
              "          docLink.innerHTML = docLinkHtml;\n",
              "          element.appendChild(docLink);\n",
              "        }\n",
              "      </script>\n",
              "    </div>\n",
              "  </div>\n",
              "  "
            ]
          },
          "metadata": {},
          "execution_count": 6
        }
      ]
    },
    {
      "cell_type": "code",
      "source": [
        "actualrating = mpermanent[(mpermanent['star_rating'] == 1) | (mpermanent['star_rating'] == 5)]\n",
        "actualrating.shape"
      ],
      "metadata": {
        "colab": {
          "base_uri": "https://localhost:8080/"
        },
        "id": "wanp5hHWHR0a",
        "outputId": "0dacd2d3-eecb-4ad2-9fdb-f7e6d44e33f2"
      },
      "execution_count": 7,
      "outputs": [
        {
          "output_type": "execute_result",
          "data": {
            "text/plain": [
              "(68182, 2)"
            ]
          },
          "metadata": {},
          "execution_count": 7
        }
      ]
    },
    {
      "cell_type": "code",
      "source": [
        "y = actualrating['star_rating']\n",
        "x = actualrating['review_body'].reset_index()\n",
        "print(len(y))\n",
        "X = x['review_body']\n",
        "print(X)"
      ],
      "metadata": {
        "colab": {
          "base_uri": "https://localhost:8080/"
        },
        "id": "nU3q7xms_J6a",
        "outputId": "ffdaff00-4b8d-4d46-e2de-91730d87f011"
      },
      "execution_count": 8,
      "outputs": [
        {
          "output_type": "stream",
          "name": "stdout",
          "text": [
            "68182\n",
            "0        This watch is a great addition to my casual sp...\n",
            "1        -:¦:-•:*'&#34;*:•.-:¦:-•❧FABULOUS ❧ -:¦:- ❧ HI...\n",
            "2        The watch is beautiful.  Fits perfectly.  Ther...\n",
            "3        I really love the watch, if you like a big wat...\n",
            "4        I wore it once and it doesn't work, so I just ...\n",
            "                               ...                        \n",
            "68177    I'm so happy with my purchase! The price was g...\n",
            "68178    I wear it almost all the time, is comfortable,...\n",
            "68179    Light weight, does not corrode, shows time, in...\n",
            "68180                                 It's what I expected\n",
            "68181    This is an awesome watch case that displays al...\n",
            "Name: review_body, Length: 68182, dtype: object\n"
          ]
        }
      ]
    },
    {
      "cell_type": "code",
      "source": [
        "import nltk\n",
        "from nltk.corpus import stopwords\n",
        "from nltk.stem import WordNetLemmatizer, PorterStemmer\n",
        "from nltk.tokenize import word_tokenize\n",
        "from nltk.tokenize import RegexpTokenizer\n",
        "\n",
        "nltk.download('punkt')\n",
        "nltk.download('stopwords')\n",
        "nltk.download('wordnet')\n",
        "tokenizer = RegexpTokenizer(r'\\w+')\n",
        "\n",
        "lemmatizer = WordNetLemmatizer()\n",
        "stop_words = set(stopwords.words('english'))\n",
        "stemmer = PorterStemmer()\n",
        "\n",
        "\n",
        "def preprocess_text(text):\n",
        "    tokenized =  ' '.join(tokenizer.tokenize(text))\n",
        "    tokenized = tokenized.replace('_', ' ')\n",
        "    # Tokenization\n",
        "    tokens = word_tokenize(tokenized.lower())\n",
        "    # Stop words removal\n",
        "    filtered_tokens = [token for token in tokens if token not in stop_words]\n",
        "    # Lemmatization\n",
        "    lemmatized_tokens = [lemmatizer.lemmatize(token) for token in filtered_tokens]\n",
        "    # Stemming\n",
        "    stemmed_tokens = [stemmer.stem(token) for token in lemmatized_tokens]\n",
        "    return stemmed_tokens"
      ],
      "metadata": {
        "colab": {
          "base_uri": "https://localhost:8080/"
        },
        "id": "DRV_lNxV_ilS",
        "outputId": "64a7dc49-a65c-4db5-887b-282fc965051d"
      },
      "execution_count": 9,
      "outputs": [
        {
          "output_type": "stream",
          "name": "stderr",
          "text": [
            "[nltk_data] Downloading package punkt to /root/nltk_data...\n",
            "[nltk_data]   Unzipping tokenizers/punkt.zip.\n",
            "[nltk_data] Downloading package stopwords to /root/nltk_data...\n",
            "[nltk_data]   Unzipping corpora/stopwords.zip.\n",
            "[nltk_data] Downloading package wordnet to /root/nltk_data...\n"
          ]
        }
      ]
    },
    {
      "cell_type": "code",
      "source": [
        "from sklearn.feature_extraction.text import CountVectorizer\n",
        "\n",
        "bow_transformer = CountVectorizer(analyzer=preprocess_text).fit(X)"
      ],
      "metadata": {
        "id": "izb6hhV2BGM8"
      },
      "execution_count": null,
      "outputs": []
    },
    {
      "cell_type": "markdown",
      "source": [],
      "metadata": {
        "id": "WfDhq9WWLuuz"
      }
    },
    {
      "cell_type": "code",
      "source": [
        "X = bow_transformer.transform(X)"
      ],
      "metadata": {
        "id": "g86JHorDB3yk"
      },
      "execution_count": null,
      "outputs": []
    },
    {
      "cell_type": "code",
      "source": [
        "from sklearn.model_selection import train_test_split\n",
        "X_train, X_test, y_train, y_test = train_test_split(X, y, test_size=0.3, random_state=101)"
      ],
      "metadata": {
        "id": "TrlqlQKRB5GE"
      },
      "execution_count": null,
      "outputs": []
    },
    {
      "cell_type": "code",
      "source": [
        "from sklearn.naive_bayes import MultinomialNB\n",
        "nb = MultinomialNB()\n",
        "nb.fit(X_train, y_train)\n",
        "nb_preds = nb.predict(X_test)"
      ],
      "metadata": {
        "id": "g0tnL8ujB7hV"
      },
      "execution_count": null,
      "outputs": []
    },
    {
      "cell_type": "code",
      "source": [
        "from sklearn.metrics import confusion_matrix, classification_report\n",
        "print(confusion_matrix(y_test, nb_preds))\n",
        "print('\\n')\n",
        "print(classification_report(y_test, nb_preds))\n",
        "nb.score(X_train, y_train)"
      ],
      "metadata": {
        "colab": {
          "base_uri": "https://localhost:8080/"
        },
        "id": "b4u5CV08CBla",
        "outputId": "fda59790-10d8-46ec-8507-3c2cdf19f13e"
      },
      "execution_count": null,
      "outputs": [
        {
          "output_type": "stream",
          "name": "stdout",
          "text": [
            "[[ 1789   823]\n",
            " [  441 17450]]\n",
            "\n",
            "\n",
            "              precision    recall  f1-score   support\n",
            "\n",
            "           1       0.80      0.68      0.74      2612\n",
            "           5       0.95      0.98      0.97     17891\n",
            "\n",
            "    accuracy                           0.94     20503\n",
            "   macro avg       0.88      0.83      0.85     20503\n",
            "weighted avg       0.94      0.94      0.94     20503\n",
            "\n"
          ]
        },
        {
          "output_type": "execute_result",
          "data": {
            "text/plain": [
              "0.9510441271765714"
            ]
          },
          "metadata": {},
          "execution_count": 17
        }
      ]
    },
    {
      "cell_type": "code",
      "source": [
        "from sklearn.linear_model import LogisticRegression\n",
        "clf = LogisticRegression(random_state=0)\n",
        "clf.fit(X, y)\n",
        "clf_preds = clf.predict(X_test)\n",
        "\n",
        "print(confusion_matrix(y_test, clf_preds))\n",
        "print('\\n')\n",
        "print(classification_report(y_test, clf_preds))\n",
        "nb.score(X_train, y_train)"
      ],
      "metadata": {
        "colab": {
          "base_uri": "https://localhost:8080/"
        },
        "id": "41ZnN7GHCCNx",
        "outputId": "cf1284f7-7ffd-407b-b64b-b293bd74a19b"
      },
      "execution_count": null,
      "outputs": [
        {
          "output_type": "stream",
          "name": "stdout",
          "text": [
            "[[ 2170   442]\n",
            " [  124 17767]]\n",
            "\n",
            "\n",
            "              precision    recall  f1-score   support\n",
            "\n",
            "           1       0.95      0.83      0.88      2612\n",
            "           5       0.98      0.99      0.98     17891\n",
            "\n",
            "    accuracy                           0.97     20503\n",
            "   macro avg       0.96      0.91      0.93     20503\n",
            "weighted avg       0.97      0.97      0.97     20503\n",
            "\n"
          ]
        },
        {
          "output_type": "stream",
          "name": "stderr",
          "text": [
            "/usr/local/lib/python3.10/dist-packages/sklearn/linear_model/_logistic.py:458: ConvergenceWarning: lbfgs failed to converge (status=1):\n",
            "STOP: TOTAL NO. of ITERATIONS REACHED LIMIT.\n",
            "\n",
            "Increase the number of iterations (max_iter) or scale the data as shown in:\n",
            "    https://scikit-learn.org/stable/modules/preprocessing.html\n",
            "Please also refer to the documentation for alternative solver options:\n",
            "    https://scikit-learn.org/stable/modules/linear_model.html#logistic-regression\n",
            "  n_iter_i = _check_optimize_result(\n"
          ]
        },
        {
          "output_type": "execute_result",
          "data": {
            "text/plain": [
              "0.9510441271765714"
            ]
          },
          "metadata": {},
          "execution_count": 18
        }
      ]
    },
    {
      "cell_type": "code",
      "source": [
        "x = actualrating['review_body'].reset_index()\n",
        "X = x['review_body']\n",
        "review_cleans = [preprocess_text(x) for x in X];\n",
        "sentences = [' '.join(r) for r in review_cleans ]"
      ],
      "metadata": {
        "id": "c5RXt8jGMuSe"
      },
      "execution_count": null,
      "outputs": []
    },
    {
      "cell_type": "code",
      "source": [
        "from keras.preprocessing.text import Tokenizer\n",
        "import numpy as np\n",
        "\n",
        "#Keras\n",
        "tokenizer = Tokenizer()\n",
        "tokenizer.fit_on_texts(sentences)\n",
        "\n",
        "text_sequences = np.array(tokenizer.texts_to_sequences(sentences))\n",
        "sequence_dict = tokenizer.word_index\n",
        "word_dict = dict((num, val) for (val, num) in sequence_dict.items())"
      ],
      "metadata": {
        "colab": {
          "base_uri": "https://localhost:8080/"
        },
        "id": "giXIEJBBNhXu",
        "outputId": "daa9cb00-e7c7-4b4a-a655-920afe8f0dd9"
      },
      "execution_count": null,
      "outputs": [
        {
          "output_type": "stream",
          "name": "stderr",
          "text": [
            "<ipython-input-20-cef6c0c63148>:8: VisibleDeprecationWarning: Creating an ndarray from ragged nested sequences (which is a list-or-tuple of lists-or-tuples-or ndarrays with different lengths or shapes) is deprecated. If you meant to do this, you must specify 'dtype=object' when creating the ndarray.\n",
            "  text_sequences = np.array(tokenizer.texts_to_sequences(sentences))\n"
          ]
        }
      ]
    },
    {
      "cell_type": "code",
      "source": [
        "from keras.utils import pad_sequences\n",
        "\n",
        "max_cap =20;\n",
        "reviews_encoded = [];\n",
        "for i,review in enumerate(review_cleans):\n",
        "    reviews_encoded.append([sequence_dict[x] for x in review]);\n",
        "\n",
        "X = pad_sequences(reviews_encoded, maxlen=max_cap, truncating='post')"
      ],
      "metadata": {
        "id": "rguAlZeqOB3p"
      },
      "execution_count": null,
      "outputs": []
    },
    {
      "cell_type": "code",
      "source": [
        "Y = np.array([0 if label==1 else 1 for label in y])\n",
        "\n",
        "np.random.seed(1024);\n",
        "random_posits = np.arange(len(X))\n",
        "np.random.shuffle(random_posits);\n",
        "\n",
        "X = X[random_posits];\n",
        "Y = Y[random_posits].reshape([-1,1]);\n",
        "\n",
        "train_cap = int(0.6 * len(X));\n",
        "dev_cap = int(0.8 * len(X));\n",
        "\n",
        "X_train, Y_train = X[:train_cap], Y[:train_cap]\n",
        "X_dev, Y_dev = X[train_cap:dev_cap], Y[train_cap:dev_cap]\n",
        "X_test1, Y_test1 = X[dev_cap:], Y[dev_cap:]\n",
        "\n"
      ],
      "metadata": {
        "id": "SpM7mHU13M3Q"
      },
      "execution_count": null,
      "outputs": []
    },
    {
      "cell_type": "code",
      "source": [
        "from keras.models import Sequential\n",
        "from keras.layers import Dense\n",
        "from keras.backend import eval\n",
        "from keras.optimizers import Adam\n",
        "from keras.layers import LSTM\n",
        "from keras.layers import Embedding\n"
      ],
      "metadata": {
        "id": "mZhR0da5InSa"
      },
      "execution_count": null,
      "outputs": []
    },
    {
      "cell_type": "code",
      "source": [
        "model1 = Sequential();\n",
        "model1.add(Embedding(len(word_dict)+1, max_cap, input_length=max_cap));\n",
        "#adding a LSTM layer of dim 1--\n",
        "model1.add(LSTM(150, return_sequences=True));\n",
        "model1.add(LSTM(150, return_sequences=False));\n",
        "#adding a dense layer with activation function of relu\n",
        "model1.add(Dense(100, activation='relu'));#best 50,relu\n",
        "#adding the final output activation with activation function of softmax\n",
        "model1.add(Dense(1, activation='sigmoid'));\n",
        "print(model1.summary());\n",
        "optimizer = Adam(lr=0.0001, decay=0.0001);\n",
        "\n",
        "model1.compile(loss='binary_crossentropy', optimizer=optimizer, metrics=['accuracy'])\n",
        "# fit model and run it for 5 epochs\n",
        "model1.fit(X_train, Y_train, batch_size=64, epochs=50, validation_data=(X_dev, Y_dev))"
      ],
      "metadata": {
        "colab": {
          "base_uri": "https://localhost:8080/"
        },
        "id": "ZFbr-wJFE92A",
        "outputId": "fdffed92-0de0-423c-83d1-f41f65870edb"
      },
      "execution_count": null,
      "outputs": [
        {
          "output_type": "stream",
          "name": "stdout",
          "text": [
            "Model: \"sequential\"\n",
            "_________________________________________________________________\n",
            " Layer (type)                Output Shape              Param #   \n",
            "=================================================================\n",
            " embedding (Embedding)       (None, 20, 20)            499600    \n",
            "                                                                 \n",
            " lstm (LSTM)                 (None, 20, 150)           102600    \n",
            "                                                                 \n",
            " lstm_1 (LSTM)               (None, 150)               180600    \n",
            "                                                                 \n",
            " dense (Dense)               (None, 100)               15100     \n",
            "                                                                 \n",
            " dense_1 (Dense)             (None, 1)                 101       \n",
            "                                                                 \n",
            "=================================================================\n",
            "Total params: 798,001\n",
            "Trainable params: 798,001\n",
            "Non-trainable params: 0\n",
            "_________________________________________________________________\n",
            "None\n",
            "Epoch 1/50\n"
          ]
        },
        {
          "output_type": "stream",
          "name": "stderr",
          "text": [
            "/usr/local/lib/python3.10/dist-packages/keras/optimizers/legacy/adam.py:117: UserWarning: The `lr` argument is deprecated, use `learning_rate` instead.\n",
            "  super().__init__(name, **kwargs)\n"
          ]
        },
        {
          "output_type": "stream",
          "name": "stdout",
          "text": [
            "641/641 [==============================] - 16s 13ms/step - loss: 0.3384 - accuracy: 0.8818 - val_loss: 0.2245 - val_accuracy: 0.9118\n",
            "Epoch 2/50\n",
            "641/641 [==============================] - 6s 9ms/step - loss: 0.1825 - accuracy: 0.9312 - val_loss: 0.1706 - val_accuracy: 0.9350\n",
            "Epoch 3/50\n",
            "641/641 [==============================] - 8s 12ms/step - loss: 0.1414 - accuracy: 0.9487 - val_loss: 0.1608 - val_accuracy: 0.9385\n",
            "Epoch 4/50\n",
            "641/641 [==============================] - 9s 13ms/step - loss: 0.1229 - accuracy: 0.9561 - val_loss: 0.1612 - val_accuracy: 0.9412\n",
            "Epoch 5/50\n",
            "641/641 [==============================] - 11s 18ms/step - loss: 0.1123 - accuracy: 0.9598 - val_loss: 0.1572 - val_accuracy: 0.9413\n",
            "Epoch 6/50\n",
            "641/641 [==============================] - 10s 15ms/step - loss: 0.1025 - accuracy: 0.9643 - val_loss: 0.1575 - val_accuracy: 0.9430\n",
            "Epoch 7/50\n",
            "641/641 [==============================] - 8s 13ms/step - loss: 0.0965 - accuracy: 0.9670 - val_loss: 0.1536 - val_accuracy: 0.9434\n",
            "Epoch 8/50\n",
            "641/641 [==============================] - 12s 18ms/step - loss: 0.0903 - accuracy: 0.9698 - val_loss: 0.1578 - val_accuracy: 0.9429\n",
            "Epoch 9/50\n",
            "641/641 [==============================] - 8s 12ms/step - loss: 0.0861 - accuracy: 0.9716 - val_loss: 0.1600 - val_accuracy: 0.9420\n",
            "Epoch 10/50\n",
            "641/641 [==============================] - 7s 11ms/step - loss: 0.0807 - accuracy: 0.9737 - val_loss: 0.1657 - val_accuracy: 0.9429\n",
            "Epoch 11/50\n",
            "641/641 [==============================] - 6s 10ms/step - loss: 0.0766 - accuracy: 0.9755 - val_loss: 0.1695 - val_accuracy: 0.9412\n",
            "Epoch 12/50\n",
            "641/641 [==============================] - 7s 11ms/step - loss: 0.0732 - accuracy: 0.9767 - val_loss: 0.1728 - val_accuracy: 0.9437\n",
            "Epoch 13/50\n",
            "641/641 [==============================] - 6s 9ms/step - loss: 0.0699 - accuracy: 0.9782 - val_loss: 0.1840 - val_accuracy: 0.9437\n",
            "Epoch 14/50\n",
            "641/641 [==============================] - 7s 10ms/step - loss: 0.0665 - accuracy: 0.9786 - val_loss: 0.1893 - val_accuracy: 0.9420\n",
            "Epoch 15/50\n",
            "641/641 [==============================] - 6s 9ms/step - loss: 0.0635 - accuracy: 0.9801 - val_loss: 0.1886 - val_accuracy: 0.9409\n",
            "Epoch 16/50\n",
            "641/641 [==============================] - 7s 10ms/step - loss: 0.0613 - accuracy: 0.9808 - val_loss: 0.1958 - val_accuracy: 0.9390\n",
            "Epoch 17/50\n",
            "641/641 [==============================] - 6s 10ms/step - loss: 0.0579 - accuracy: 0.9822 - val_loss: 0.2076 - val_accuracy: 0.9404\n",
            "Epoch 18/50\n",
            "641/641 [==============================] - 7s 11ms/step - loss: 0.0559 - accuracy: 0.9833 - val_loss: 0.2002 - val_accuracy: 0.9396\n",
            "Epoch 19/50\n",
            "641/641 [==============================] - 7s 10ms/step - loss: 0.0539 - accuracy: 0.9836 - val_loss: 0.2080 - val_accuracy: 0.9401\n",
            "Epoch 20/50\n",
            "641/641 [==============================] - 7s 10ms/step - loss: 0.0522 - accuracy: 0.9846 - val_loss: 0.2159 - val_accuracy: 0.9395\n",
            "Epoch 21/50\n",
            "641/641 [==============================] - 7s 11ms/step - loss: 0.0496 - accuracy: 0.9849 - val_loss: 0.2284 - val_accuracy: 0.9344\n",
            "Epoch 22/50\n",
            "641/641 [==============================] - 6s 9ms/step - loss: 0.0481 - accuracy: 0.9861 - val_loss: 0.2282 - val_accuracy: 0.9385\n",
            "Epoch 23/50\n",
            "641/641 [==============================] - 7s 10ms/step - loss: 0.0464 - accuracy: 0.9865 - val_loss: 0.2254 - val_accuracy: 0.9353\n",
            "Epoch 24/50\n",
            "641/641 [==============================] - 7s 11ms/step - loss: 0.0447 - accuracy: 0.9872 - val_loss: 0.2418 - val_accuracy: 0.9364\n",
            "Epoch 25/50\n",
            "641/641 [==============================] - 7s 10ms/step - loss: 0.0438 - accuracy: 0.9877 - val_loss: 0.2499 - val_accuracy: 0.9347\n",
            "Epoch 26/50\n",
            "641/641 [==============================] - 6s 9ms/step - loss: 0.0420 - accuracy: 0.9888 - val_loss: 0.2504 - val_accuracy: 0.9361\n",
            "Epoch 27/50\n",
            "641/641 [==============================] - 7s 10ms/step - loss: 0.0414 - accuracy: 0.9888 - val_loss: 0.2608 - val_accuracy: 0.9359\n",
            "Epoch 28/50\n",
            "641/641 [==============================] - 6s 10ms/step - loss: 0.0400 - accuracy: 0.9892 - val_loss: 0.2559 - val_accuracy: 0.9342\n",
            "Epoch 29/50\n",
            "641/641 [==============================] - 7s 11ms/step - loss: 0.0389 - accuracy: 0.9897 - val_loss: 0.2587 - val_accuracy: 0.9355\n",
            "Epoch 30/50\n",
            "641/641 [==============================] - 6s 10ms/step - loss: 0.0380 - accuracy: 0.9894 - val_loss: 0.2714 - val_accuracy: 0.9347\n",
            "Epoch 31/50\n",
            "641/641 [==============================] - 7s 10ms/step - loss: 0.0372 - accuracy: 0.9900 - val_loss: 0.2751 - val_accuracy: 0.9342\n",
            "Epoch 32/50\n",
            "641/641 [==============================] - 6s 10ms/step - loss: 0.0361 - accuracy: 0.9907 - val_loss: 0.2846 - val_accuracy: 0.9333\n",
            "Epoch 33/50\n",
            "641/641 [==============================] - 7s 11ms/step - loss: 0.0355 - accuracy: 0.9904 - val_loss: 0.2824 - val_accuracy: 0.9337\n",
            "Epoch 34/50\n",
            "641/641 [==============================] - 6s 9ms/step - loss: 0.0347 - accuracy: 0.9908 - val_loss: 0.2839 - val_accuracy: 0.9291\n",
            "Epoch 35/50\n",
            "641/641 [==============================] - 7s 11ms/step - loss: 0.0335 - accuracy: 0.9911 - val_loss: 0.2924 - val_accuracy: 0.9336\n",
            "Epoch 36/50\n",
            "641/641 [==============================] - 6s 10ms/step - loss: 0.0334 - accuracy: 0.9911 - val_loss: 0.2934 - val_accuracy: 0.9321\n",
            "Epoch 37/50\n",
            "641/641 [==============================] - 8s 12ms/step - loss: 0.0323 - accuracy: 0.9917 - val_loss: 0.3047 - val_accuracy: 0.9325\n",
            "Epoch 38/50\n",
            "641/641 [==============================] - 6s 9ms/step - loss: 0.0316 - accuracy: 0.9920 - val_loss: 0.3018 - val_accuracy: 0.9309\n",
            "Epoch 39/50\n",
            "641/641 [==============================] - 7s 11ms/step - loss: 0.0309 - accuracy: 0.9921 - val_loss: 0.3024 - val_accuracy: 0.9323\n",
            "Epoch 40/50\n",
            "641/641 [==============================] - 6s 10ms/step - loss: 0.0302 - accuracy: 0.9925 - val_loss: 0.3157 - val_accuracy: 0.9324\n",
            "Epoch 41/50\n",
            "641/641 [==============================] - 7s 11ms/step - loss: 0.0299 - accuracy: 0.9920 - val_loss: 0.3303 - val_accuracy: 0.9323\n",
            "Epoch 42/50\n",
            "641/641 [==============================] - 7s 10ms/step - loss: 0.0293 - accuracy: 0.9924 - val_loss: 0.3263 - val_accuracy: 0.9312\n",
            "Epoch 43/50\n",
            "641/641 [==============================] - 6s 9ms/step - loss: 0.0287 - accuracy: 0.9931 - val_loss: 0.3281 - val_accuracy: 0.9325\n",
            "Epoch 44/50\n",
            "641/641 [==============================] - 7s 10ms/step - loss: 0.0279 - accuracy: 0.9929 - val_loss: 0.3320 - val_accuracy: 0.9314\n",
            "Epoch 45/50\n",
            "641/641 [==============================] - 6s 9ms/step - loss: 0.0277 - accuracy: 0.9931 - val_loss: 0.3379 - val_accuracy: 0.9312\n",
            "Epoch 46/50\n",
            "641/641 [==============================] - 7s 11ms/step - loss: 0.0273 - accuracy: 0.9930 - val_loss: 0.3415 - val_accuracy: 0.9309\n",
            "Epoch 47/50\n",
            "641/641 [==============================] - 6s 10ms/step - loss: 0.0269 - accuracy: 0.9934 - val_loss: 0.3685 - val_accuracy: 0.9298\n",
            "Epoch 48/50\n",
            "641/641 [==============================] - 7s 11ms/step - loss: 0.0264 - accuracy: 0.9932 - val_loss: 0.3784 - val_accuracy: 0.9278\n",
            "Epoch 49/50\n",
            "641/641 [==============================] - 6s 10ms/step - loss: 0.0262 - accuracy: 0.9932 - val_loss: 0.3454 - val_accuracy: 0.9299\n",
            "Epoch 50/50\n",
            "641/641 [==============================] - 7s 11ms/step - loss: 0.0258 - accuracy: 0.9936 - val_loss: 0.3698 - val_accuracy: 0.9295\n"
          ]
        },
        {
          "output_type": "execute_result",
          "data": {
            "text/plain": [
              "<keras.callbacks.History at 0x7f7c9c4ea050>"
            ]
          },
          "metadata": {},
          "execution_count": 32
        }
      ]
    },
    {
      "cell_type": "code",
      "source": [
        "model1_preds = model1.predict(X_test1)\n",
        "model1_preds[model1_preds > 0.5] = 1\n",
        "model1_preds[model1_preds <= 0.5] = 0\n",
        "print(confusion_matrix(Y_test1, model1_preds))\n",
        "print('\\n')\n",
        "print(classification_report(Y_test1, model1_preds))"
      ],
      "metadata": {
        "colab": {
          "base_uri": "https://localhost:8080/"
        },
        "id": "yyyKOsttIY8c",
        "outputId": "0df17f1b-8efb-4fb9-a0a5-fa90a5e64010"
      },
      "execution_count": null,
      "outputs": [
        {
          "output_type": "stream",
          "name": "stdout",
          "text": [
            "428/428 [==============================] - 1s 3ms/step\n",
            "[[ 1134   627]\n",
            " [  396 11512]]\n",
            "\n",
            "\n",
            "              precision    recall  f1-score   support\n",
            "\n",
            "           0       0.74      0.64      0.69      1761\n",
            "           1       0.95      0.97      0.96     11908\n",
            "\n",
            "    accuracy                           0.93     13669\n",
            "   macro avg       0.84      0.81      0.82     13669\n",
            "weighted avg       0.92      0.93      0.92     13669\n",
            "\n"
          ]
        }
      ]
    },
    {
      "cell_type": "markdown",
      "source": [
        "# Bert Model"
      ],
      "metadata": {
        "id": "XjedTXijamo1"
      }
    },
    {
      "cell_type": "code",
      "source": [
        "!pip install transformers\n",
        "import nltk\n",
        "nltk.download('movie_reviews')\n",
        "nltk.download('stopwords')\n",
        "import pandas as pd\n",
        "import sklearn\n",
        "import unicodedata\n",
        "import numpy as np\n",
        "import random\n",
        "import re\n",
        "import nltk\n",
        "from nltk.corpus import movie_reviews\n",
        "from sklearn.model_selection import train_test_split\n",
        "import tensorflow as tf\n",
        "import tensorflow.keras as keras\n",
        "import transformers\n",
        "import matplotlib.pyplot as plt\n",
        "import matplotlib\n",
        "import pandas as pd\n",
        "from transformers import BertTokenizer, TFBertForSequenceClassification"
      ],
      "metadata": {
        "id": "OZlemle9akhl"
      },
      "execution_count": null,
      "outputs": []
    },
    {
      "cell_type": "code",
      "source": [
        "Y = np.array([0 if label==1 else 1 for label in y])\n",
        "X_train, X_test, y_train, y_test = train_test_split(X, Y, test_size=0.3, random_state=101)"
      ],
      "metadata": {
        "id": "_5ubgfX3EZX9"
      },
      "execution_count": 10,
      "outputs": []
    },
    {
      "cell_type": "code",
      "source": [
        "num_classes = 2\n",
        "bert_tokenizer = BertTokenizer.from_pretrained(\"bert-base-uncased\", do_lower_case=True)\n",
        "\n",
        "def convert_fun_to_feature(review):\n",
        "  return bert_tokenizer.encode_plus(review,\n",
        "                add_special_tokens = True,\n",
        "                max_length = 32,\n",
        "                padding='max_length',\n",
        "                truncation=True,\n",
        "                return_attention_mask = True,\n",
        "              )\n",
        "def map_fun_to_dict(input_ids, attention_masks, token_type_ids, label):\n",
        "  return {\n",
        "      \"input_ids\": input_ids,\n",
        "      \"token_type_ids\": token_type_ids,\n",
        "      \"attention_mask\": attention_masks,\n",
        "  }, label\n",
        "\n",
        "def encode_fun(ds):\n",
        "  input_ids_list = []\n",
        "  token_type_ids_list = []\n",
        "  attention_mask_list = []\n",
        "  label_list = []\n",
        "  for review, label in ds:\n",
        "    bert_input = convert_fun_to_feature(review)\n",
        "    input_ids_list.append(bert_input['input_ids'])\n",
        "    token_type_ids_list.append(bert_input['token_type_ids'])\n",
        "    attention_mask_list.append(bert_input['attention_mask'])\n",
        "    label_list.append([label])\n",
        "\n",
        "  return tf.data.Dataset.from_tensor_slices((input_ids_list, attention_mask_list, token_type_ids_list, label_list)).map(map_fun_to_dict)"
      ],
      "metadata": {
        "id": "E7vfqme0ElYy"
      },
      "execution_count": 11,
      "outputs": []
    },
    {
      "cell_type": "code",
      "source": [
        "batch_size = 64\n",
        "\n",
        "ds_train = zip(X_train, y_train)\n",
        "ds_test = zip(X_test, y_test)\n",
        "ds_train_encoded = encode_fun(ds_train).shuffle(len(X_train)).batch(batch_size)\n",
        "ds_test_encoded = encode_fun(ds_test).batch(batch_size)"
      ],
      "metadata": {
        "id": "HblAzQa_Eskb"
      },
      "execution_count": 13,
      "outputs": []
    },
    {
      "cell_type": "code",
      "source": [
        "model_save_path = './bert_model.h5'\n",
        "\n",
        "path = \"./models/\"\n",
        "\n",
        "bert_model = TFBertForSequenceClassification.from_pretrained('bert-base-uncased', num_labels=num_classes)\n",
        "\n",
        "bert_model.summary()"
      ],
      "metadata": {
        "colab": {
          "base_uri": "https://localhost:8080/"
        },
        "id": "8v9hUcu3FSl8",
        "outputId": "58f59325-7189-4380-e6c4-2ba10ae9d11d"
      },
      "execution_count": 14,
      "outputs": [
        {
          "output_type": "stream",
          "name": "stderr",
          "text": [
            "All PyTorch model weights were used when initializing TFBertForSequenceClassification.\n",
            "\n",
            "Some weights or buffers of the TF 2.0 model TFBertForSequenceClassification were not initialized from the PyTorch model and are newly initialized: ['classifier.weight', 'classifier.bias']\n",
            "You should probably TRAIN this model on a down-stream task to be able to use it for predictions and inference.\n"
          ]
        },
        {
          "output_type": "stream",
          "name": "stdout",
          "text": [
            "Model: \"tf_bert_for_sequence_classification\"\n",
            "_________________________________________________________________\n",
            " Layer (type)                Output Shape              Param #   \n",
            "=================================================================\n",
            " bert (TFBertMainLayer)      multiple                  109482240 \n",
            "                                                                 \n",
            " dropout_37 (Dropout)        multiple                  0         \n",
            "                                                                 \n",
            " classifier (Dense)          multiple                  1538      \n",
            "                                                                 \n",
            "=================================================================\n",
            "Total params: 109,483,778\n",
            "Trainable params: 109,483,778\n",
            "Non-trainable params: 0\n",
            "_________________________________________________________________\n"
          ]
        }
      ]
    },
    {
      "cell_type": "code",
      "source": [
        "learning_rate = 2e-5\n",
        "\n",
        "number_of_epochs = 2\n",
        "\n",
        "optimizer = tf.keras.optimizers.Adam(learning_rate=learning_rate, epsilon=1e-08)\n",
        "\n",
        "loss = tf.keras.losses.SparseCategoricalCrossentropy(from_logits=True)\n",
        "metric = tf.keras.metrics.SparseCategoricalAccuracy('accuracy')\n",
        "\n",
        "bert_model.compile(loss=loss,\n",
        "                   optimizer=optimizer,\n",
        "                   metrics=metric)"
      ],
      "metadata": {
        "id": "MYblEzuaGk10"
      },
      "execution_count": 17,
      "outputs": []
    },
    {
      "cell_type": "code",
      "source": [
        "history = bert_model.fit(ds_train_encoded,\n",
        "                         batch_size=batch_size,\n",
        "                         epochs=number_of_epochs,\n",
        "                         validation_data=ds_test_encoded)"
      ],
      "metadata": {
        "colab": {
          "base_uri": "https://localhost:8080/"
        },
        "id": "vM-iY44gGm-Y",
        "outputId": "2e01de81-9386-4f78-8c21-2cc0ae95510d"
      },
      "execution_count": 18,
      "outputs": [
        {
          "output_type": "stream",
          "name": "stdout",
          "text": [
            "Epoch 1/2\n",
            "746/746 [==============================] - 392s 459ms/step - loss: 0.4441 - accuracy: 0.8653 - val_loss: 0.3947 - val_accuracy: 0.8659\n",
            "Epoch 2/2\n",
            "746/746 [==============================] - 338s 452ms/step - loss: 0.4268 - accuracy: 0.8649 - val_loss: 0.3973 - val_accuracy: 0.8659\n"
          ]
        }
      ]
    },
    {
      "cell_type": "code",
      "source": [
        "def plot1(history):\n",
        "    acc = history.history['accuracy']\n",
        "    val_acc = history.history['val_accuracy']\n",
        "    loss = history.history['loss']\n",
        "    val_loss = history.history['val_loss']\n",
        "    epochs = range(1, len(acc) + 1)\n",
        "    plt.plot(epochs, acc, 'bo', label='Training acc')\n",
        "    plt.plot(epochs, val_acc, 'b', label='Validation acc')\n",
        "    plt.title('Training and validation accuracy')\n",
        "    plt.legend()\n",
        "    plt.figure()\n",
        "    plt.plot(epochs, loss, 'bo', label='Training loss')\n",
        "    plt.plot(epochs, val_loss, 'b', label='Validation loss')\n",
        "    plt.title('Training and validation loss')\n",
        "    plt.legend()\n",
        "    plt.show()\n",
        "\n",
        "def plot2(history):\n",
        "    pd.DataFrame(history.history).plot(figsize=(4, 2))\n",
        "    plt.grid(True)\n",
        "    plt.show()\n",
        "plot2(history)\n"
      ],
      "metadata": {
        "colab": {
          "base_uri": "https://localhost:8080/",
          "height": 312
        },
        "id": "LVVb4RsMGoKl",
        "outputId": "35ee373f-6ea0-4efe-b50e-96f3c37675a5"
      },
      "execution_count": 23,
      "outputs": [
        {
          "output_type": "display_data",
          "data": {
            "text/plain": [
              "<Figure size 600x300 with 1 Axes>"
            ],
            "image/png": "[encoded data removed]"
          },
          "metadata": {}
        }
      ]
    }
  ]
}